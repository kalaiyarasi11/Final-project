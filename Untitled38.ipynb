{
  "nbformat": 4,
  "nbformat_minor": 0,
  "metadata": {
    "colab": {
      "provenance": [],
      "authorship_tag": "ABX9TyNnRKIbIUuTIZu/OPLWASwV",
      "include_colab_link": true
    },
    "kernelspec": {
      "name": "python3",
      "display_name": "Python 3"
    },
    "language_info": {
      "name": "python"
    }
  },
  "cells": [
    {
      "cell_type": "markdown",
      "metadata": {
        "id": "view-in-github",
        "colab_type": "text"
      },
      "source": [
        "<a href=\"https://colab.research.google.com/github/kalaiyarasi11/Final-project/blob/master/Untitled38.ipynb\" target=\"_parent\"><img src=\"https://colab.research.google.com/assets/colab-badge.svg\" alt=\"Open In Colab\"/></a>"
      ]
    },
    {
      "cell_type": "code",
      "execution_count": 1,
      "metadata": {
        "colab": {
          "base_uri": "https://localhost:8080/",
          "height": 106
        },
        "id": "9SoxM22QxAoo",
        "outputId": "c0d64fcc-3b36-4228-d196-afc0f8fe4e40"
      },
      "outputs": [
        {
          "output_type": "error",
          "ename": "SyntaxError",
          "evalue": "(unicode error) 'unicodeescape' codec can't decode bytes in position 2-3: truncated \\UXXXXXXXX escape (<ipython-input-1-26008fc8f7e0>, line 4)",
          "traceback": [
            "\u001b[0;36m  File \u001b[0;32m\"<ipython-input-1-26008fc8f7e0>\"\u001b[0;36m, line \u001b[0;32m4\u001b[0m\n\u001b[0;31m    video_path = \"C:\\Users\\kalai\\Videos\\Microsoft.WindowsCamera_8wekyb3d8bbwe!App\\sample video.mp4\"\u001b[0m\n\u001b[0m                                                                                                   ^\u001b[0m\n\u001b[0;31mSyntaxError\u001b[0m\u001b[0;31m:\u001b[0m (unicode error) 'unicodeescape' codec can't decode bytes in position 2-3: truncated \\UXXXXXXXX escape\n"
          ]
        }
      ],
      "source": [
        "import cv2\n",
        "import time\n",
        "\n",
        "video_path = \"C:\\Users\\kalai\\Videos\\Microsoft.WindowsCamera_8wekyb3d8bbwe!App\\sample video.mp4\"\n",
        "window_name = f\"Detected Objects in {video_path}\"\n",
        "video = cv2.VideoCapture(video_path)\n",
        "\n",
        "while True:\n",
        "    # read() returns a boolean alongside the image data if it was successful\n",
        "    ret, frame = video.read()\n",
        "    # Quit if no image can be read from the video\n",
        "    if not ret:\n",
        "        break\n",
        "    # Resize window to fit screen, since it's vertical and long\n",
        "    cv2.namedWindow(window_name, cv2.WINDOW_NORMAL)\n",
        "    cv2.imshow(window_name, frame)\n",
        "    if cv2.waitKey(1) == 27:\n",
        "        break\n",
        "    # Sleep for 1/30 seconds to get 30 frames per second in the output\n",
        "    time.sleep(1/30)\n",
        "\n",
        "video.release()\n",
        "cv2.destroyAllWindows()"
      ]
    },
    {
      "cell_type": "code",
      "source": [
        "import cv2\n",
        "import time\n",
        "\n",
        "# Use a raw string to avoid unicode escape errors\n",
        "video_path = r\"C:\\Users\\kalai\\Videos\\Microsoft.WindowsCamera_8wekyb3d8bbwe!App\\sample video.mp4\"\n",
        "window_name = f\"Detected Objects in {video_path}\"\n",
        "video = cv2.VideoCapture(video_path)\n",
        "\n",
        "while True:\n",
        "    # Read video frame\n",
        "    ret, frame = video.read()\n",
        "\n",
        "    if not ret:\n",
        "        break  # Exit if no frame is read\n",
        "\n",
        "    # Resize window to fit screen\n",
        "    cv2.namedWindow(window_name, cv2.WINDOW_NORMAL)\n",
        "    cv2.imshow(window_name, frame)\n",
        "\n",
        "    # Press 'Esc' key (ASCII 27) to exit\n",
        "    if cv2.waitKey(1) == 27:\n",
        "        break\n",
        "\n",
        "    # Maintain 30 FPS\n",
        "    time.sleep(1/30)\n",
        "\n",
        "video.release()\n",
        "cv2.destroyAllWindows()\n"
      ],
      "metadata": {
        "id": "P0qOhxftyB1u"
      },
      "execution_count": 2,
      "outputs": []
    },
    {
      "cell_type": "code",
      "source": [
        "import cv2\n",
        "import time\n",
        "\n",
        "video_path = r\"C:\\Users\\kalai\\Videos\\Microsoft.WindowsCamera_8wekyb3d8bbwe!App\\sample video.mp4\"\n",
        "window_name = f\"Detected Objects in {video_path}\"\n",
        "video = cv2.VideoCapture(video_path)\n",
        "\n",
        "while True:\n",
        "    # read() returns a boolean alongside the image data if it was successful\n",
        "    ret, frame = video.read()\n",
        "    # Quit if no image can be read from the video\n",
        "    if not ret:\n",
        "        break\n",
        "    cv2.namedWindow(window_name, cv2.WINDOW_NORMAL)\n",
        "    # Grayscale image for classification\n",
        "    image = cv2.cvtColor(frame, cv2.COLOR_BGR2GRAY)\n",
        "    # Define classifier\n",
        "    cascade_classifier = cv2.CascadeClassifier(\n",
        "        f\"{cv2.data.haarcascades}haarcascade_eye.xml\")\n",
        "    # Detect objects\n",
        "    detected_objects = cascade_classifier.detectMultiScale(\n",
        "        image, minSize=(50, 50))\n",
        "    # Draw rectangles\n",
        "    if len(detected_objects) != 0:\n",
        "        for (x, y, height, width) in detected_objects:\n",
        "            cv2.rectangle(\n",
        "                frame, (x, y), ((x + height), (y + width)), (0, 255, 0), 15)\n",
        "    #Show image\n",
        "    cv2.imshow(window_name, frame)\n",
        "\n",
        "    if cv2.waitKey(1) == 27:\n",
        "        break\n",
        "\n",
        "video.release()\n",
        "cv2.destroyAllWindows()"
      ],
      "metadata": {
        "id": "4gZiMCiOyFkK"
      },
      "execution_count": 4,
      "outputs": []
    }
  ]
}